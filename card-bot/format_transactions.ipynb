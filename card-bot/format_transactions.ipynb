{
 "cells": [
  {
   "cell_type": "code",
   "execution_count": 2,
   "id": "dd66de11-4aa6-43da-ad42-9720118f89fb",
   "metadata": {},
   "outputs": [],
   "source": [
    "import pandas as pd\n",
    "from uuid import uuid4\n",
    "from datetime import datetime\n",
    "\n",
    "def random_id():\n",
    "    return str(uuid4())[:5]\n",
    "    \n",
    "transactions = [\n",
    "    {\"id\": random_id(), \"date\": datetime.today().isoformat(), \"to\": \"Vinayak Nayak\", \"amount\": 300},\n",
    "    {\"id\": random_id(), \"date\": \"2022-09-27 18:00:00.000\", \"to\": \"Vishal Ahuja\", \"amount\": 400},\n",
    "    {\"id\": random_id(), \"date\": \"2022-10-27 18:00:00.000\", \"to\": \"Kristine Ma\", \"amount\": 500},\n",
    "    {\"id\": random_id(), \"date\": \"2022-11-27 18:00:00.000\", \"to\": \"Arpit Yadav\", \"amount\": 300},\n",
    "    {\"id\": random_id(), \"date\": \"2022-12-27 18:00:00.000\", \"to\": \"Vinayak Nayak\", \"amount\": 600},\n",
    "    {\"id\": random_id(), \"date\": \"2022-12-29 18:00:00.000\", \"to\": \"Vishal Ahuja\", \"amount\": 800}\n",
    "]"
   ]
  },
  {
   "cell_type": "code",
   "execution_count": 12,
   "id": "b5083c0c-3944-4507-965a-5799ab551a6c",
   "metadata": {},
   "outputs": [
    {
     "name": "stdout",
     "output_type": "stream",
     "text": [
      "{'id': '43b99', 'date': '2025-01-14T11:10:16.833207', 'to': 'Vinayak Nayak', 'amount': 300}\n",
      "{'id': '42bd9', 'date': '2022-09-27 18:00:00.000', 'to': 'Vishal Ahuja', 'amount': 400}\n",
      "{'id': '7a070', 'date': '2022-10-27 18:00:00.000', 'to': 'Kristine Ma', 'amount': 500}\n",
      "{'id': '8a9e5', 'date': '2022-11-27 18:00:00.000', 'to': 'Arpit Yadav', 'amount': 300}\n",
      "{'id': 'd8989', 'date': '2022-12-27 18:00:00.000', 'to': 'Vinayak Nayak', 'amount': 600}\n",
      "{'id': '4f95c', 'date': '2022-12-29 18:00:00.000', 'to': 'Vishal Ahuja', 'amount': 800}\n"
     ]
    }
   ],
   "source": [
    "from pprint import pprint\n",
    "for item in transactions:\n",
    "    print(item)"
   ]
  },
  {
   "cell_type": "code",
   "execution_count": 13,
   "id": "c8e91eb9-b72b-448e-b907-d772d5d863f1",
   "metadata": {},
   "outputs": [
    {
     "data": {
      "text/plain": [
       "\"\\n{'id': '43b99', 'date': '2025-01-14T11:10:16.833207', 'to': 'Vinayak Nayak', 'amount': 300}\\n{'id': '42bd9', 'date': '2022-09-27 18:00:00.000', 'to': 'Vishal Ahuja', 'amount': 400}\\n{'id': '7a070', 'date': '2022-10-27 18:00:00.000', 'to': 'Kristine Ma', 'amount': 500}\\n{'id': '8a9e5', 'date': '2022-11-27 18:00:00.000', 'to': 'Arpit Yadav', 'amount': 300}\\n{'id': 'd8989', 'date': '2022-12-27 18:00:00.000', 'to': 'Vinayak Nayak', 'amount': 600}\\n{'id': '4f95c', 'date': '2022-12-29 18:00:00.000', 'to': 'Vishal Ahuja', 'amount': 800}\\n\""
      ]
     },
     "execution_count": 13,
     "metadata": {},
     "output_type": "execute_result"
    }
   ],
   "source": [
    "\"\"\"\n",
    "{'id': '43b99', 'date': '2025-01-14T11:10:16.833207', 'to': 'Vinayak Nayak', 'amount': 300}\n",
    "{'id': '42bd9', 'date': '2022-09-27 18:00:00.000', 'to': 'Vishal Ahuja', 'amount': 400}\n",
    "{'id': '7a070', 'date': '2022-10-27 18:00:00.000', 'to': 'Kristine Ma', 'amount': 500}\n",
    "{'id': '8a9e5', 'date': '2022-11-27 18:00:00.000', 'to': 'Arpit Yadav', 'amount': 300}\n",
    "{'id': 'd8989', 'date': '2022-12-27 18:00:00.000', 'to': 'Vinayak Nayak', 'amount': 600}\n",
    "{'id': '4f95c', 'date': '2022-12-29 18:00:00.000', 'to': 'Vishal Ahuja', 'amount': 800}\n",
    "\"\"\""
   ]
  },
  {
   "cell_type": "code",
   "execution_count": 4,
   "id": "b8da3d90-c510-48a0-b8d9-3885a0231d02",
   "metadata": {},
   "outputs": [],
   "source": [
    "df = pd.DataFrame(transactions)"
   ]
  },
  {
   "cell_type": "code",
   "execution_count": 6,
   "id": "47660cf1-192b-4cdb-a454-1668a14b7720",
   "metadata": {},
   "outputs": [
    {
     "data": {
      "text/plain": [
       "['id', 'date', 'to', 'amount']"
      ]
     },
     "execution_count": 6,
     "metadata": {},
     "output_type": "execute_result"
    }
   ],
   "source": [
    "headers = df.columns.tolist()\n",
    "headers"
   ]
  },
  {
   "cell_type": "code",
   "execution_count": 8,
   "id": "3575cf92-eef0-4471-abbb-7a7292f3c8dc",
   "metadata": {},
   "outputs": [
    {
     "data": {
      "text/plain": [
       "[['43b99', '2025-01-14T11:10:16.833207', 'Vinayak Nayak', 300],\n",
       " ['42bd9', '2022-09-27 18:00:00.000', 'Vishal Ahuja', 400],\n",
       " ['7a070', '2022-10-27 18:00:00.000', 'Kristine Ma', 500],\n",
       " ['8a9e5', '2022-11-27 18:00:00.000', 'Arpit Yadav', 300],\n",
       " ['d8989', '2022-12-27 18:00:00.000', 'Vinayak Nayak', 600],\n",
       " ['4f95c', '2022-12-29 18:00:00.000', 'Vishal Ahuja', 800]]"
      ]
     },
     "execution_count": 8,
     "metadata": {},
     "output_type": "execute_result"
    }
   ],
   "source": [
    "rows = df.values.tolist()\n",
    "rows"
   ]
  },
  {
   "cell_type": "code",
   "execution_count": null,
   "id": "eee6c5d5-6e3b-4253-9c79-3b3b05efdfe6",
   "metadata": {},
   "outputs": [],
   "source": []
  }
 ],
 "metadata": {
  "kernelspec": {
   "display_name": "nlp",
   "language": "python",
   "name": "nlp"
  },
  "language_info": {
   "codemirror_mode": {
    "name": "ipython",
    "version": 3
   },
   "file_extension": ".py",
   "mimetype": "text/x-python",
   "name": "python",
   "nbconvert_exporter": "python",
   "pygments_lexer": "ipython3",
   "version": "3.10.14"
  }
 },
 "nbformat": 4,
 "nbformat_minor": 5
}
